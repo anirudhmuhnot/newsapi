{
 "cells": [
  {
   "cell_type": "code",
   "execution_count": 75,
   "metadata": {},
   "outputs": [],
   "source": [
    "import requests\n",
    "url = ('https://newsapi.org/v2/everything?'\n",
    "       'sources=the-hindu&'\n",
    "       'q=convicted murder&'\n",
    "       'from=2000-01-16&'\n",
    "       'sortBy=popularity&'\n",
    "       'apiKey=82d395d62df649c7908dd28d35e91f5e')\n",
    "data = requests.get(url)"
   ]
  },
  {
   "cell_type": "code",
   "execution_count": 80,
   "metadata": {},
   "outputs": [
    {
     "data": {
      "text/html": [
       "<div>\n",
       "<style>\n",
       "    .dataframe thead tr:only-child th {\n",
       "        text-align: right;\n",
       "    }\n",
       "\n",
       "    .dataframe thead th {\n",
       "        text-align: left;\n",
       "    }\n",
       "\n",
       "    .dataframe tbody tr th {\n",
       "        vertical-align: top;\n",
       "    }\n",
       "</style>\n",
       "<table border=\"1\" class=\"dataframe\">\n",
       "  <thead>\n",
       "    <tr style=\"text-align: right;\">\n",
       "      <th></th>\n",
       "      <th>articles</th>\n",
       "      <th>status</th>\n",
       "      <th>totalResults</th>\n",
       "    </tr>\n",
       "  </thead>\n",
       "  <tbody>\n",
       "    <tr>\n",
       "      <th>0</th>\n",
       "      <td>{u'description': u'TG : Seven of the 10 execut...</td>\n",
       "      <td>ok</td>\n",
       "      <td>4</td>\n",
       "    </tr>\n",
       "    <tr>\n",
       "      <th>1</th>\n",
       "      <td>{u'description': u'A Libyan militant was convi...</td>\n",
       "      <td>ok</td>\n",
       "      <td>4</td>\n",
       "    </tr>\n",
       "    <tr>\n",
       "      <th>2</th>\n",
       "      <td>{u'description': u'An airman who stabbed anoth...</td>\n",
       "      <td>ok</td>\n",
       "      <td>4</td>\n",
       "    </tr>\n",
       "    <tr>\n",
       "      <th>3</th>\n",
       "      <td>{u'description': u'The former U.S. base worker...</td>\n",
       "      <td>ok</td>\n",
       "      <td>4</td>\n",
       "    </tr>\n",
       "  </tbody>\n",
       "</table>\n",
       "</div>"
      ],
      "text/plain": [
       "                                            articles status  totalResults\n",
       "0  {u'description': u'TG : Seven of the 10 execut...     ok             4\n",
       "1  {u'description': u'A Libyan militant was convi...     ok             4\n",
       "2  {u'description': u'An airman who stabbed anoth...     ok             4\n",
       "3  {u'description': u'The former U.S. base worker...     ok             4"
      ]
     },
     "execution_count": 80,
     "metadata": {},
     "output_type": "execute_result"
    }
   ],
   "source": [
    "import pandas as pd\n",
    "df = pd.DataFrame(data.json())\n",
    "df.tail()"
   ]
  },
  {
   "cell_type": "code",
   "execution_count": 78,
   "metadata": {},
   "outputs": [
    {
     "data": {
      "text/plain": [
       "{u'author': u'Ashok Kumar',\n",
       " u'description': u'The Board rules on the application of the victim\\u2019s father, says the juvenile delinquent would be produced before the sessions court on December 22.',\n",
       " u'publishedAt': u'2017-12-20T08:42:27Z',\n",
       " u'source': {u'id': u'the-hindu', u'name': u'The Hindu'},\n",
       " u'title': u'Ryan school murder: Juvenile accused to be tried as an adult',\n",
       " u'url': u'http://www.thehindu.com/news/national/other-states/ryan-school-murder-juvenile-accused-to-be-tried-as-an-adult/article22023520.ece',\n",
       " u'urlToImage': u'http://www.thehindu.com/news/national/other-states/article22023518.ece/ALTERNATES/LANDSCAPE_615/RYANJUVENILE'}"
      ]
     },
     "execution_count": 78,
     "metadata": {},
     "output_type": "execute_result"
    }
   ],
   "source": [
    "df['articles'][19]"
   ]
  },
  {
   "cell_type": "code",
   "execution_count": 81,
   "metadata": {},
   "outputs": [
    {
     "data": {
      "text/html": [
       "<div>\n",
       "<style>\n",
       "    .dataframe thead tr:only-child th {\n",
       "        text-align: right;\n",
       "    }\n",
       "\n",
       "    .dataframe thead th {\n",
       "        text-align: left;\n",
       "    }\n",
       "\n",
       "    .dataframe tbody tr th {\n",
       "        vertical-align: top;\n",
       "    }\n",
       "</style>\n",
       "<table border=\"1\" class=\"dataframe\">\n",
       "  <thead>\n",
       "    <tr style=\"text-align: right;\">\n",
       "      <th></th>\n",
       "      <th>articles</th>\n",
       "      <th>status</th>\n",
       "      <th>totalResults</th>\n",
       "    </tr>\n",
       "  </thead>\n",
       "  <tbody>\n",
       "    <tr>\n",
       "      <th>0</th>\n",
       "      <td>{u'description': u'TG : Seven of the 10 execut...</td>\n",
       "      <td>ok</td>\n",
       "      <td>4</td>\n",
       "    </tr>\n",
       "    <tr>\n",
       "      <th>1</th>\n",
       "      <td>{u'description': u'A Libyan militant was convi...</td>\n",
       "      <td>ok</td>\n",
       "      <td>4</td>\n",
       "    </tr>\n",
       "    <tr>\n",
       "      <th>2</th>\n",
       "      <td>{u'description': u'An airman who stabbed anoth...</td>\n",
       "      <td>ok</td>\n",
       "      <td>4</td>\n",
       "    </tr>\n",
       "    <tr>\n",
       "      <th>3</th>\n",
       "      <td>{u'description': u'The former U.S. base worker...</td>\n",
       "      <td>ok</td>\n",
       "      <td>4</td>\n",
       "    </tr>\n",
       "  </tbody>\n",
       "</table>\n",
       "</div>"
      ],
      "text/plain": [
       "                                            articles status  totalResults\n",
       "0  {u'description': u'TG : Seven of the 10 execut...     ok             4\n",
       "1  {u'description': u'A Libyan militant was convi...     ok             4\n",
       "2  {u'description': u'An airman who stabbed anoth...     ok             4\n",
       "3  {u'description': u'The former U.S. base worker...     ok             4"
      ]
     },
     "execution_count": 81,
     "metadata": {},
     "output_type": "execute_result"
    }
   ],
   "source": [
    "import requests\n",
    "url = ('https://newsapi.org/v2/everything?'\n",
    "       'sources=google-news-in&'\n",
    "       'q=convicted murder&'\n",
    "       'from=2000-01-16&'\n",
    "       'sortBy=popularity&'\n",
    "       'apiKey=82d395d62df649c7908dd28d35e91f5e')\n",
    "data = requests.get(url)\n",
    "import pandas as pd\n",
    "df = pd.DataFrame(data.json())\n",
    "df.tail()"
   ]
  },
  {
   "cell_type": "code",
   "execution_count": 82,
   "metadata": {},
   "outputs": [
    {
     "data": {
      "text/html": [
       "<div>\n",
       "<style>\n",
       "    .dataframe thead tr:only-child th {\n",
       "        text-align: right;\n",
       "    }\n",
       "\n",
       "    .dataframe thead th {\n",
       "        text-align: left;\n",
       "    }\n",
       "\n",
       "    .dataframe tbody tr th {\n",
       "        vertical-align: top;\n",
       "    }\n",
       "</style>\n",
       "<table border=\"1\" class=\"dataframe\">\n",
       "  <thead>\n",
       "    <tr style=\"text-align: right;\">\n",
       "      <th></th>\n",
       "      <th>articles</th>\n",
       "      <th>status</th>\n",
       "      <th>totalResults</th>\n",
       "    </tr>\n",
       "  </thead>\n",
       "  <tbody>\n",
       "    <tr>\n",
       "      <th>15</th>\n",
       "      <td>{u'description': u'UP registered 14.5 per cent...</td>\n",
       "      <td>ok</td>\n",
       "      <td>63</td>\n",
       "    </tr>\n",
       "    <tr>\n",
       "      <th>16</th>\n",
       "      <td>{u'description': u'The court also observed tha...</td>\n",
       "      <td>ok</td>\n",
       "      <td>63</td>\n",
       "    </tr>\n",
       "    <tr>\n",
       "      <th>17</th>\n",
       "      <td>{u'description': u'A bench comprising Chief Ju...</td>\n",
       "      <td>ok</td>\n",
       "      <td>63</td>\n",
       "    </tr>\n",
       "    <tr>\n",
       "      <th>18</th>\n",
       "      <td>{u'description': u'The review petition by conv...</td>\n",
       "      <td>ok</td>\n",
       "      <td>63</td>\n",
       "    </tr>\n",
       "    <tr>\n",
       "      <th>19</th>\n",
       "      <td>{u'description': u'The high court had also cas...</td>\n",
       "      <td>ok</td>\n",
       "      <td>63</td>\n",
       "    </tr>\n",
       "  </tbody>\n",
       "</table>\n",
       "</div>"
      ],
      "text/plain": [
       "                                             articles status  totalResults\n",
       "15  {u'description': u'UP registered 14.5 per cent...     ok            63\n",
       "16  {u'description': u'The court also observed tha...     ok            63\n",
       "17  {u'description': u'A bench comprising Chief Ju...     ok            63\n",
       "18  {u'description': u'The review petition by conv...     ok            63\n",
       "19  {u'description': u'The high court had also cas...     ok            63"
      ]
     },
     "execution_count": 82,
     "metadata": {},
     "output_type": "execute_result"
    }
   ],
   "source": [
    "import requests\n",
    "url = ('https://newsapi.org/v2/everything?'\n",
    "       'sources=the-times-of-india&'\n",
    "       'q=convicted murder&'\n",
    "       'from=2000-01-16&'\n",
    "       'sortBy=popularity&'\n",
    "       'apiKey=82d395d62df649c7908dd28d35e91f5e')\n",
    "data = requests.get(url)\n",
    "import pandas as pd\n",
    "df = pd.DataFrame(data.json())\n",
    "df.tail()"
   ]
  },
  {
   "cell_type": "code",
   "execution_count": null,
   "metadata": {
    "collapsed": true
   },
   "outputs": [],
   "source": []
  },
  {
   "cell_type": "code",
   "execution_count": null,
   "metadata": {
    "collapsed": true
   },
   "outputs": [],
   "source": []
  }
 ],
 "metadata": {
  "kernelspec": {
   "display_name": "Python 2",
   "language": "python",
   "name": "python2"
  },
  "language_info": {
   "codemirror_mode": {
    "name": "ipython",
    "version": 2
   },
   "file_extension": ".py",
   "mimetype": "text/x-python",
   "name": "python",
   "nbconvert_exporter": "python",
   "pygments_lexer": "ipython2",
   "version": "2.7.14"
  }
 },
 "nbformat": 4,
 "nbformat_minor": 2
}
